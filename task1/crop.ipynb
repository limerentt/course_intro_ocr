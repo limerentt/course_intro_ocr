{
 "cells": [
  {
   "cell_type": "code",
   "execution_count": 1,
   "metadata": {},
   "outputs": [],
   "source": [
    "from pathlib import Path\n",
    "from course_intro_ocr_t1.data import MidvPackage\n",
    "from tqdm import tqdm\n",
    "import numpy as np\n",
    "import cv2\n",
    "import json"
   ]
  },
  {
   "cell_type": "code",
   "execution_count": 2,
   "metadata": {},
   "outputs": [
    {
     "data": {
      "text/plain": [
       "(50, course_intro_ocr_t1.data.MidvPackage)"
      ]
     },
     "execution_count": 2,
     "metadata": {},
     "output_type": "execute_result"
    }
   ],
   "source": [
    "DATASET_PATH = Path().absolute().parent.parent / 'midv500' / 'midv500_compressed'\n",
    "assert DATASET_PATH.exists(), DATASET_PATH.absolute()\n",
    "\n",
    "data_packs = MidvPackage.read_midv500_dataset(DATASET_PATH)\n",
    "len(data_packs), type(data_packs[0])"
   ]
  },
  {
   "cell_type": "code",
   "execution_count": 3,
   "metadata": {},
   "outputs": [
    {
     "name": "stderr",
     "output_type": "stream",
     "text": [
      "100%|██████████| 50/50 [08:19<00:00,  9.99s/it]\n"
     ]
    }
   ],
   "source": [
    "import cv2\n",
    "import numpy as np\n",
    "from tqdm import tqdm\n",
    "\n",
    "def process_image(image):\n",
    "    gray_image = cv2.cvtColor(np.array(image), cv2.COLOR_BGR2GRAY)\n",
    "    sift = cv2.SIFT_create()\n",
    "    keypoints, descriptors = sift.detectAndCompute(gray_image, None)\n",
    "    return gray_image, keypoints, descriptors\n",
    "\n",
    "def find_homography(template_keypoints, target_keypoints, matches, reproj_thresh=5.0):\n",
    "    src_points = np.float32([template_keypoints[m.queryIdx].pt for m in matches]).reshape(-1, 1, 2)\n",
    "    dst_points = np.float32([target_keypoints[m.trainIdx].pt for m in matches]).reshape(-1, 1, 2)\n",
    "    homography_matrix, mask = cv2.findHomography(src_points, dst_points, cv2.RANSAC, reproj_thresh)\n",
    "    return homography_matrix, mask\n",
    "\n",
    "def transform_corners(template_gray, homography_matrix, target_gray):\n",
    "    height, width = template_gray.shape\n",
    "    corners = np.float32([[0, 0], [width, 0], [width, height], [0, height]])\n",
    "    transformed_corners = cv2.perspectiveTransform(corners[None, :, :], homography_matrix)[0]\n",
    "    height, width = target_gray.shape\n",
    "    normalized_corners = transformed_corners / [width, height]\n",
    "    return normalized_corners.tolist()\n",
    "\n",
    "def filter_matches(matches, ratio=0.75):\n",
    "    good_matches = []\n",
    "    for m, n in matches:\n",
    "        if m.distance < ratio * n.distance:\n",
    "            good_matches.append(m)\n",
    "    return good_matches\n",
    "\n",
    "results = {}\n",
    "\n",
    "for package in tqdm(data_packs):\n",
    "    for item in package:\n",
    "        if item.is_test_split():\n",
    "            try:\n",
    "                template_gray, template_keypoints, template_descriptors = process_image(package.template_item.image)\n",
    "                target_gray, target_keypoints, target_descriptors = process_image(item.image)\n",
    "\n",
    "                bf_matcher = cv2.BFMatcher()\n",
    "                raw_matches = bf_matcher.knnMatch(template_descriptors, target_descriptors, k=2)\n",
    "                matches = filter_matches(raw_matches)\n",
    "\n",
    "                homography_matrix, mask = find_homography(template_keypoints, target_keypoints, matches)\n",
    "                normalized_corners = transform_corners(template_gray, homography_matrix, target_gray)\n",
    "                results[item.unique_key] = normalized_corners\n",
    "            except Exception as e:\n",
    "                pass"
   ]
  },
  {
   "cell_type": "code",
   "execution_count": 4,
   "metadata": {},
   "outputs": [
    {
     "name": "stdout",
     "output_type": "stream",
     "text": [
      "Crop accuracy: 0.9640\n"
     ]
    }
   ],
   "source": [
    "from course_intro_ocr_t1.metrics import dump_results_dict, measure_crop_accuracy\n",
    "\n",
    "dump_results_dict(results, Path() / 'pred.json')\n",
    "accuracy = measure_crop_accuracy(\n",
    "    Path() / 'pred.json',\n",
    "    Path() / 'gt.json'\n",
    ")\n",
    "print(f'Crop accuracy: {accuracy:.4f}')"
   ]
  }
 ],
 "metadata": {
  "kernelspec": {
   "display_name": "Python 3.9.0 64-bit",
   "language": "python",
   "name": "python3"
  },
  "language_info": {
   "codemirror_mode": {
    "name": "ipython",
    "version": 3
   },
   "file_extension": ".py",
   "mimetype": "text/x-python",
   "name": "python",
   "nbconvert_exporter": "python",
   "pygments_lexer": "ipython3",
   "version": "3.11.7"
  },
  "orig_nbformat": 4,
  "vscode": {
   "interpreter": {
    "hash": "bae7ddeda0b50b85f5426381c5daf82e55ace4a8634779dfa04a3d620aaef92c"
   }
  }
 },
 "nbformat": 4,
 "nbformat_minor": 2
}
